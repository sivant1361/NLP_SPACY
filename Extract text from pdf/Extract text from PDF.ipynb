{
 "cells": [
  {
   "cell_type": "raw",
   "metadata": {},
   "source": [
    "!conda install -c conda-forge pypdf2"
   ]
  },
  {
   "cell_type": "code",
   "execution_count": 1,
   "metadata": {},
   "outputs": [],
   "source": [
    "import PyPDF2 as pdf"
   ]
  },
  {
   "cell_type": "code",
   "execution_count": 2,
   "metadata": {},
   "outputs": [],
   "source": [
    "file = open('nlp.pdf','rb')"
   ]
  },
  {
   "cell_type": "code",
   "execution_count": 3,
   "metadata": {},
   "outputs": [
    {
     "name": "stderr",
     "output_type": "stream",
     "text": [
      "PdfReadWarning: Xref table not zero-indexed. ID numbers for objects will be corrected. [pdf.py:1736]\n"
     ]
    }
   ],
   "source": [
    "pdfReader=pdf.PdfFileReader(file)"
   ]
  },
  {
   "cell_type": "code",
   "execution_count": 4,
   "metadata": {},
   "outputs": [
    {
     "data": {
      "text/plain": [
       "False"
      ]
     },
     "execution_count": 4,
     "metadata": {},
     "output_type": "execute_result"
    }
   ],
   "source": [
    "pdfReader.getIsEncrypted()"
   ]
  },
  {
   "cell_type": "code",
   "execution_count": 5,
   "metadata": {},
   "outputs": [
    {
     "data": {
      "text/plain": [
       "504"
      ]
     },
     "execution_count": 5,
     "metadata": {},
     "output_type": "execute_result"
    }
   ],
   "source": [
    "pdfReader.getNumPages()"
   ]
  },
  {
   "cell_type": "code",
   "execution_count": 6,
   "metadata": {},
   "outputs": [],
   "source": [
    "page25= pdfReader.getPage(25)"
   ]
  },
  {
   "cell_type": "code",
   "execution_count": 7,
   "metadata": {},
   "outputs": [
    {
     "data": {
      "text/plain": [
       "'\\nfrom nltk.book import *\\nbook\\nbook\\n\\n\\n\\n\\n\\n>>>>>> from nltk.book import **** Introductory Examples for the NLTK Book ***\\nLoading text1, ..., text9 and sent1, ..., sent9\\nType the name of the text or sentence to view it.\\n\\ntext1: Moby Dick by Herman Melville 1851text2: Sense and Sensibility by Jane Austen 1811text3: The Book of Genesis\\ntext4: Inaugural Address Corpus\\ntext5: Chat Corpus\\ntext6: Monty Python and the Holy Grail\\ntext7: Wall Street Journal\\ntext8: Personals Corpus\\ntext9: The Man Who Was Thursday by G . K . Chesterton 1908\\n>>>\\n>>> text1<Text: Moby Dick by Herman Melville 1851>\\n>>> text2\\n<Text: Sense and Sensibility by Jane Austen 1811>\\n>>>\\nSearching Text\\n\\n\\n\\n\\n\\n\\ntext1\\nconcordance\"monstrous\">>> text1.concordance(\"monstrous\")Building index...\\nDisplaying 11 of 11 matches:\\nong the former , one was of a most monstrous size . ... This came towards us ,\\nON OF THE PSALMS . \" Touching that monstrous bulk of the whale or ork we have r\\nll over with a heathenish array of monstrous clubs and spears . Some were thick\\nd as you gazed , and wondered what monstrous cannibal and savage could ever hav\\nthat has survived the flood ; most monstrous and most mountainous ! That Himmal\\nthey might scout at Moby Dick as a monstrous fable , or still worse and more de\\ning Scenes . In connexion with the monstrous pictures of whales , I am strongly\\nere to enter upon those still more monstrous stories of them which are to be fo4|Chapter 1:\\nLanguage Processing and Python'"
      ]
     },
     "execution_count": 7,
     "metadata": {},
     "output_type": "execute_result"
    }
   ],
   "source": [
    "page25.extractText()"
   ]
  },
  {
   "cell_type": "code",
   "execution_count": 8,
   "metadata": {},
   "outputs": [],
   "source": [
    "pdfWriter=pdf.PdfFileWriter()"
   ]
  },
  {
   "cell_type": "code",
   "execution_count": 9,
   "metadata": {},
   "outputs": [],
   "source": [
    "pdfWriter.addPage(pdfReader.getPage(1))\n",
    "pdfWriter.addPage(page25)"
   ]
  },
  {
   "cell_type": "code",
   "execution_count": 10,
   "metadata": {},
   "outputs": [],
   "source": [
    "output = open('pages.pdf','wb')\n",
    "pdfWriter.write(output)\n",
    "output.close()"
   ]
  }
 ],
 "metadata": {
  "kernelspec": {
   "display_name": "Python 3",
   "language": "python",
   "name": "python3"
  },
  "language_info": {
   "codemirror_mode": {
    "name": "ipython",
    "version": 3
   },
   "file_extension": ".py",
   "mimetype": "text/x-python",
   "name": "python",
   "nbconvert_exporter": "python",
   "pygments_lexer": "ipython3",
   "version": "3.7.7"
  }
 },
 "nbformat": 4,
 "nbformat_minor": 4
}
