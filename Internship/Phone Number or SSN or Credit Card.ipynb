{
 "cells": [
  {
   "cell_type": "code",
   "execution_count": 1,
   "metadata": {},
   "outputs": [],
   "source": [
    "import spacy\n",
    "from spacy.matcher import Matcher\n",
    "from spacy.tokens import Span\n",
    "from spacy import displacy\n",
    "import re"
   ]
  },
  {
   "cell_type": "code",
   "execution_count": 2,
   "metadata": {},
   "outputs": [],
   "source": [
    "nlp = spacy.load('en_core_web_md')"
   ]
  },
  {
   "cell_type": "code",
   "execution_count": 3,
   "metadata": {},
   "outputs": [],
   "source": [
    "matcher = Matcher(nlp.vocab)"
   ]
  },
  {
   "cell_type": "code",
   "execution_count": 4,
   "metadata": {},
   "outputs": [],
   "source": [
    "matched_sents = []"
   ]
  },
  {
   "cell_type": "code",
   "execution_count": 5,
   "metadata": {},
   "outputs": [],
   "source": [
    "american_num_pattern = [{\"ORTH\":\"(\"},{\"SHAPE\":\"ddd\"},{\"ORTH\":\")\"},{\"SHAPE\":\"ddd\"},{\"ORTH\":\"-\",\"OP\":\"?\"},{\"SHAPE\":\"dddd\"}]\n",
    "credit_card_number = [{\"SHAPE\":\"dddd\"},{\"ORTH\":\"-\",\"OP\":\"?\"},{\"SHAPE\":\"dddd\"},{\"ORTH\":\"-\",\"OP\":\"?\"},{\"SHAPE\":\"dddd\"},{\"ORTH\":\"-\",\"OP\":\"?\"},{\"SHAPE\":\"dddd\"}] \n",
    "ssn_pattern = [{\"SHAPE\":\"ddd\"},{\"ORTH\":\"-\",\"OP\":\"?\"},{\"SHAPE\":\"dd\"},{\"ORTH\":\"-\",\"OP\":\"?\"},{\"SHAPE\":\"dddd\"}]"
   ]
  },
  {
   "cell_type": "code",
   "execution_count": 6,
   "metadata": {},
   "outputs": [],
   "source": [
    "def label_sentiment(matcher, doc,i ,matches):\n",
    "    match_id, start, end = matches[i]\n",
    "    string_id=doc.vocab.strings[match_id]\n",
    "    span = doc[start:end]\n",
    "    sent = span.sent\n",
    "    label = doc.vocab.strings[match_id]\n",
    "\n",
    "    match_ents=[{\n",
    "        'start' : span.start_char-sent.start_char,\n",
    "        'end' : span.end_char-sent.start_char,\n",
    "        'label' : label\n",
    "    }]\n",
    "    \n",
    "    matched_sents.append({'text':sent.text,'ents':match_ents,'id':string_id})"
   ]
  },
  {
   "cell_type": "code",
   "execution_count": 7,
   "metadata": {},
   "outputs": [],
   "source": [
    "matcher = Matcher(nlp.vocab)\n",
    "matcher.add(\"American Phone Number\",label_sentiment,american_num_pattern)\n",
    "matcher.add(\"Socail Security Number\",label_sentiment,ssn_pattern)\n",
    "matcher.add(\"Credit Card Number\",label_sentiment,credit_card_number)"
   ]
  },
  {
   "cell_type": "code",
   "execution_count": 8,
   "metadata": {},
   "outputs": [
    {
     "data": {
      "text/html": [
       "<span class=\"tex2jax_ignore\"><div class=\"entities\" style=\"line-height: 2.5; direction: ltr\">call me at \n",
       "<mark class=\"entity\" style=\"background: #ddd; padding: 0.45em 0.6em; margin: 0 0.25em; line-height: 1; border-radius: 0.35em;\">\n",
       "    (123) 456 7789\n",
       "    <span style=\"font-size: 0.8em; font-weight: bold; line-height: 1; border-radius: 0.35em; text-transform: uppercase; vertical-align: middle; margin-left: 0.5rem\">American Phone Number</span>\n",
       "</mark>\n",
       "</div></span>"
      ],
      "text/plain": [
       "<IPython.core.display.HTML object>"
      ]
     },
     "metadata": {},
     "output_type": "display_data"
    }
   ],
   "source": [
    "doc = nlp(\"call me at (123) 456 7789\")\n",
    "matches=matcher(doc)\n",
    "displacy.render(matched_sents, style ='ent', manual =True)\n",
    "matched_sents = []"
   ]
  },
  {
   "cell_type": "code",
   "execution_count": 9,
   "metadata": {},
   "outputs": [
    {
     "data": {
      "text/html": [
       "<span class=\"tex2jax_ignore\"><div class=\"entities\" style=\"line-height: 2.5; direction: ltr\">call me at \n",
       "<mark class=\"entity\" style=\"background: #ddd; padding: 0.45em 0.6em; margin: 0 0.25em; line-height: 1; border-radius: 0.35em;\">\n",
       "    (321) 654-9987\n",
       "    <span style=\"font-size: 0.8em; font-weight: bold; line-height: 1; border-radius: 0.35em; text-transform: uppercase; vertical-align: middle; margin-left: 0.5rem\">American Phone Number</span>\n",
       "</mark>\n",
       "</div></span>"
      ],
      "text/plain": [
       "<IPython.core.display.HTML object>"
      ]
     },
     "metadata": {},
     "output_type": "display_data"
    }
   ],
   "source": [
    "doc = nlp(\"call me at (321) 654-9987 \")\n",
    "matches=matcher(doc)\n",
    "displacy.render(matched_sents, style ='ent', manual =True)\n",
    "matched_sents = []"
   ]
  },
  {
   "cell_type": "code",
   "execution_count": 10,
   "metadata": {},
   "outputs": [
    {
     "data": {
      "text/html": [
       "<span class=\"tex2jax_ignore\"><div class=\"entities\" style=\"line-height: 2.5; direction: ltr\">This is my SSN number \n",
       "<mark class=\"entity\" style=\"background: #ddd; padding: 0.45em 0.6em; margin: 0 0.25em; line-height: 1; border-radius: 0.35em;\">\n",
       "    110-13-4567\n",
       "    <span style=\"font-size: 0.8em; font-weight: bold; line-height: 1; border-radius: 0.35em; text-transform: uppercase; vertical-align: middle; margin-left: 0.5rem\">Socail Security Number</span>\n",
       "</mark>\n",
       "</div></span>"
      ],
      "text/plain": [
       "<IPython.core.display.HTML object>"
      ]
     },
     "metadata": {},
     "output_type": "display_data"
    }
   ],
   "source": [
    "doc = nlp(\"This is my SSN number 110-13-4567\")\n",
    "matches=matcher(doc)\n",
    "displacy.render(matched_sents, style ='ent', manual =True)\n",
    "matched_sents = []"
   ]
  },
  {
   "cell_type": "code",
   "execution_count": 11,
   "metadata": {},
   "outputs": [
    {
     "data": {
      "text/html": [
       "<span class=\"tex2jax_ignore\"><div class=\"entities\" style=\"line-height: 2.5; direction: ltr\">My credit card number as follows \n",
       "<mark class=\"entity\" style=\"background: #ddd; padding: 0.45em 0.6em; margin: 0 0.25em; line-height: 1; border-radius: 0.35em;\">\n",
       "    1111-2222-4444-3333\n",
       "    <span style=\"font-size: 0.8em; font-weight: bold; line-height: 1; border-radius: 0.35em; text-transform: uppercase; vertical-align: middle; margin-left: 0.5rem\">Credit Card Number</span>\n",
       "</mark>\n",
       "</div></span>"
      ],
      "text/plain": [
       "<IPython.core.display.HTML object>"
      ]
     },
     "metadata": {},
     "output_type": "display_data"
    }
   ],
   "source": [
    "doc = nlp(\"My credit card number as follows 1111-2222-4444-3333\")\n",
    "matches=matcher(doc)\n",
    "displacy.render(matched_sents, style ='ent', manual =True)\n",
    "matched_sents = []"
   ]
  },
  {
   "cell_type": "code",
   "execution_count": 12,
   "metadata": {},
   "outputs": [
    {
     "data": {
      "text/html": [
       "<span class=\"tex2jax_ignore\"><div class=\"entities\" style=\"line-height: 2.5; direction: ltr\">My credit card number without hyphens \n",
       "<mark class=\"entity\" style=\"background: #ddd; padding: 0.45em 0.6em; margin: 0 0.25em; line-height: 1; border-radius: 0.35em;\">\n",
       "    1234 5678 9101 1121\n",
       "    <span style=\"font-size: 0.8em; font-weight: bold; line-height: 1; border-radius: 0.35em; text-transform: uppercase; vertical-align: middle; margin-left: 0.5rem\">Credit Card Number</span>\n",
       "</mark>\n",
       "</div></span>"
      ],
      "text/plain": [
       "<IPython.core.display.HTML object>"
      ]
     },
     "metadata": {},
     "output_type": "display_data"
    }
   ],
   "source": [
    "doc = nlp(\"My credit card number without hyphens 1234 5678 9101 1121\")\n",
    "matches=matcher(doc)\n",
    "displacy.render(matched_sents, style ='ent', manual =True)\n",
    "matched_sents = []"
   ]
  }
 ],
 "metadata": {
  "kernelspec": {
   "display_name": "Python 3",
   "language": "python",
   "name": "python3"
  },
  "language_info": {
   "codemirror_mode": {
    "name": "ipython",
    "version": 3
   },
   "file_extension": ".py",
   "mimetype": "text/x-python",
   "name": "python",
   "nbconvert_exporter": "python",
   "pygments_lexer": "ipython3",
   "version": "3.7.7"
  }
 },
 "nbformat": 4,
 "nbformat_minor": 4
}
